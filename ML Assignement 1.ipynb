{
 "cells": [
  {
   "cell_type": "code",
   "execution_count": 1,
   "metadata": {
    "id": "C56NzhrlNspU"
   },
   "outputs": [],
   "source": [
    "import numpy as np\n",
    "import matplotlib.pyplot as plt"
   ]
  },
  {
   "cell_type": "code",
   "execution_count": 2,
   "metadata": {
    "colab": {
     "base_uri": "https://localhost:8080/",
     "height": 320
    },
    "id": "-Qmckt37NwfF",
    "outputId": "5a0952d3-618c-47aa-d236-a26a8026e1ce"
   },
   "outputs": [],
   "source": [
    "y_train = np.genfromtxt('Train/Training Labels.txt')\n",
    "y_test = np.genfromtxt('Test/Test Labels.txt')"
   ]
  },
  {
   "cell_type": "code",
   "execution_count": 3,
   "metadata": {
    "id": "oOYwmR1xOuaQ"
   },
   "outputs": [],
   "source": [
    "def get_train_X(add_bias = False):\n",
    "    X = np.zeros((2400, 784))\n",
    "    for i in range (0, X.shape[0]):\n",
    "        img = plt.imread(\"Train/\"+str(i+1)+'.jpg')\n",
    "        rows, cols = img.shape \n",
    "        img_size = rows*cols\n",
    "        img_flat = img.reshape(img_size)\n",
    "        X[i] = img_flat\n",
    "    if add_bias:\n",
    "        return np.concatenate([np.ones((X.shape[0], 1)), X], axis=1)\n",
    "    else:\n",
    "        return X"
   ]
  },
  {
   "cell_type": "code",
   "execution_count": 4,
   "metadata": {},
   "outputs": [],
   "source": [
    "def train(class_label, X, add_bias = False):\n",
    "    y_train_c = np.copy(y_train)\n",
    "    y_train_c = y_train_c == class_label\n",
    "    m1 = np.mean(X[y_train_c == 0], axis = 0)\n",
    "    m2 = np.mean(X[y_train_c == 1], axis = 0)\n",
    "#     Sw = np.dot((X - m1).T, (X - m1)) + np.dot((X - m2).T, (X - m2))\n",
    "#     w = np.dot(np.linalg.pinv(Sw), (m2 - m1).T)\n",
    "    X_trans = np.transpose(X)\n",
    "    X_X_transpose_inv = np.linalg.pinv(np.dot(X_trans, X))\n",
    "    w = np.dot(np.dot((X_X_transpose_inv), X_trans), y_train_c)\n",
    "#     if add_bias:\n",
    "#         w[0] = -w.T.dot(m1 + m2)/2\n",
    "    return w"
   ]
  },
  {
   "cell_type": "code",
   "execution_count": 5,
   "metadata": {
    "id": "ZccM6_nQRy77"
   },
   "outputs": [],
   "source": [
    "def predict(image, W, add_bias = False):\n",
    "    img = plt.imread(image)\n",
    "    rows, cols = img.shape \n",
    "    img_size = rows*cols\n",
    "    img_flat = img.reshape(img_size)[:, None]\n",
    "    if add_bias:\n",
    "        img_flat = np.concatenate([np.ones((1,1)), img_flat], axis=0)  \n",
    "    return np.argmax(W.dot(img_flat))"
   ]
  },
  {
   "cell_type": "code",
   "execution_count": 6,
   "metadata": {},
   "outputs": [],
   "source": [
    "def get_confusion_matrix(W_in, add_bias = False):\n",
    "    confusion_matrix = np.zeros((10, 10))\n",
    "    y_pred = np.zeros((200, 1))\n",
    "    for i in range (0, 200):\n",
    "        y_pred[i] = predict('Test/{}.jpg'.format(i+1), W_in, add_bias)\n",
    "    for c_i in range (0, 10):\n",
    "        imgs_i = c_i*20\n",
    "        unique_elements, counts_elements = np.unique(y_pred[imgs_i:imgs_i+20], return_counts=True)\n",
    "        for j in range(0, counts_elements.shape[0]):\n",
    "            val = unique_elements[j]\n",
    "            count = counts_elements[j]\n",
    "            confusion_matrix[c_i][int(val)] = int(count)\n",
    "    return confusion_matrix"
   ]
  },
  {
   "cell_type": "code",
   "execution_count": 7,
   "metadata": {},
   "outputs": [],
   "source": [
    "X = get_train_X()"
   ]
  },
  {
   "cell_type": "code",
   "execution_count": 8,
   "metadata": {},
   "outputs": [],
   "source": [
    "W = np.zeros((10, (784)))\n",
    "for i in range (0, 10):\n",
    "    W[i] = train(i, X)"
   ]
  },
  {
   "cell_type": "code",
   "execution_count": 24,
   "metadata": {},
   "outputs": [
    {
     "data": {
      "text/plain": [
       "<matplotlib.image.AxesImage at 0x7f1cb9447940>"
      ]
     },
     "execution_count": 24,
     "metadata": {},
     "output_type": "execute_result"
    },
    {
     "data": {
      "image/png": "[encoded data removed]",
      "text/plain": [
       "<Figure size 432x288 with 1 Axes>"
      ]
     },
     "metadata": {
      "needs_background": "light"
     },
     "output_type": "display_data"
    }
   ],
   "source": [
    "test_W = W[1].reshape((28, 28))\n",
    "plt.imshow(test_W, cmap='gray')"
   ]
  },
  {
   "cell_type": "code",
   "execution_count": 10,
   "metadata": {},
   "outputs": [
    {
     "name": "stdout",
     "output_type": "stream",
     "text": [
      "this image was classified as: 9\n"
     ]
    },
    {
     "data": {
      "image/png": "[encoded data removed]",
      "text/plain": [
       "<Figure size 432x288 with 1 Axes>"
      ]
     },
     "metadata": {
      "needs_background": "light"
     },
     "output_type": "display_data"
    }
   ],
   "source": [
    "test_img = \"Train/2399.jpg\"\n",
    "print(\"this image was classified as: {}\".format(predict(test_img, W)))\n",
    "plt.imshow(plt.imread(test_img), cmap='gray')\n",
    "plt.show()"
   ]
  },
  {
   "cell_type": "code",
   "execution_count": 11,
   "metadata": {},
   "outputs": [],
   "source": [
    "X_b = get_train_X(add_bias = True)\n",
    "W_b = np.zeros((10, (785)))\n",
    "for i in range (0, 10):\n",
    "    W_b[i] = train(i, X_b, add_bias = True)"
   ]
  },
  {
   "cell_type": "code",
   "execution_count": 21,
   "metadata": {},
   "outputs": [
    {
     "ename": "ValueError",
     "evalue": "cannot reshape array of size 785 into shape (28,28)",
     "output_type": "error",
     "traceback": [
      "\u001b[0;31m---------------------------------------------------------------------------\u001b[0m",
      "\u001b[0;31mValueError\u001b[0m                                Traceback (most recent call last)",
      "\u001b[0;32m<ipython-input-21-d884921c1d42>\u001b[0m in \u001b[0;36m<module>\u001b[0;34m\u001b[0m\n\u001b[0;32m----> 1\u001b[0;31m \u001b[0mtest_W\u001b[0m \u001b[0;34m=\u001b[0m \u001b[0mW_b\u001b[0m\u001b[0;34m[\u001b[0m\u001b[0;36m0\u001b[0m\u001b[0;34m:\u001b[0m\u001b[0;34m]\u001b[0m\u001b[0;34m[\u001b[0m\u001b[0;36m2\u001b[0m\u001b[0;34m]\u001b[0m\u001b[0;34m.\u001b[0m\u001b[0mreshape\u001b[0m\u001b[0;34m(\u001b[0m\u001b[0;34m(\u001b[0m\u001b[0;36m28\u001b[0m\u001b[0;34m,\u001b[0m \u001b[0;36m28\u001b[0m\u001b[0;34m)\u001b[0m\u001b[0;34m)\u001b[0m\u001b[0;34m\u001b[0m\u001b[0;34m\u001b[0m\u001b[0m\n\u001b[0m\u001b[1;32m      2\u001b[0m \u001b[0mplt\u001b[0m\u001b[0;34m.\u001b[0m\u001b[0mimshow\u001b[0m\u001b[0;34m(\u001b[0m\u001b[0mtest_W\u001b[0m\u001b[0;34m,\u001b[0m \u001b[0mcmap\u001b[0m\u001b[0;34m=\u001b[0m\u001b[0;34m'gray'\u001b[0m\u001b[0;34m)\u001b[0m\u001b[0;34m\u001b[0m\u001b[0;34m\u001b[0m\u001b[0m\n",
      "\u001b[0;31mValueError\u001b[0m: cannot reshape array of size 785 into shape (28,28)"
     ]
    }
   ],
   "source": [
    "test_W = W_b[0:][2].reshape((28, 28))\n",
    "plt.imshow(test_W, cmap='gray')"
   ]
  },
  {
   "cell_type": "code",
   "execution_count": 12,
   "metadata": {},
   "outputs": [],
   "source": [
    "W_b_conf = get_confusion_matrix(W_b, add_bias = True)"
   ]
  },
  {
   "cell_type": "code",
   "execution_count": 13,
   "metadata": {},
   "outputs": [],
   "source": [
    "W_conf = get_confusion_matrix(W)"
   ]
  },
  {
   "cell_type": "code",
   "execution_count": 14,
   "metadata": {},
   "outputs": [
    {
     "data": {
      "text/plain": [
       "array([[19.,  0.,  0.,  0.,  0.,  0.,  1.,  0.,  0.,  0.],\n",
       "       [ 0., 20.,  0.,  0.,  0.,  0.,  0.,  0.,  0.,  0.],\n",
       "       [ 0.,  3., 12.,  2.,  2.,  1.,  0.,  0.,  0.,  0.],\n",
       "       [ 0.,  0.,  0., 17.,  0.,  1.,  0.,  0.,  2.,  0.],\n",
       "       [ 0.,  0.,  0.,  0., 17.,  1.,  0.,  1.,  0.,  1.],\n",
       "       [ 0.,  0.,  0.,  1.,  0., 14.,  1.,  0.,  2.,  2.],\n",
       "       [ 0.,  0.,  0.,  0.,  0.,  0., 20.,  0.,  0.,  0.],\n",
       "       [ 0.,  0.,  1.,  1.,  0.,  0.,  0., 15.,  0.,  3.],\n",
       "       [ 0.,  0.,  1.,  0.,  0.,  3.,  0.,  0., 15.,  1.],\n",
       "       [ 1.,  0.,  0.,  1.,  1.,  1.,  0.,  4.,  0., 12.]])"
      ]
     },
     "execution_count": 14,
     "metadata": {},
     "output_type": "execute_result"
    }
   ],
   "source": [
    "W_conf"
   ]
  },
  {
   "cell_type": "code",
   "execution_count": 15,
   "metadata": {},
   "outputs": [
    {
     "data": {
      "text/plain": [
       "0.805"
      ]
     },
     "execution_count": 15,
     "metadata": {},
     "output_type": "execute_result"
    }
   ],
   "source": [
    "np.sum(W_conf.diagonal())/200"
   ]
  },
  {
   "cell_type": "code",
   "execution_count": 16,
   "metadata": {},
   "outputs": [
    {
     "data": {
      "text/plain": [
       "array([[19.,  0.,  0.,  0.,  0.,  0.,  1.,  0.,  0.,  0.],\n",
       "       [ 0., 20.,  0.,  0.,  0.,  0.,  0.,  0.,  0.,  0.],\n",
       "       [ 1.,  3., 11.,  2.,  2.,  1.,  0.,  0.,  0.,  0.],\n",
       "       [ 0.,  0.,  0., 17.,  0.,  1.,  0.,  0.,  2.,  0.],\n",
       "       [ 0.,  0.,  0.,  0., 17.,  1.,  0.,  1.,  0.,  1.],\n",
       "       [ 0.,  0.,  0.,  1.,  0., 14.,  1.,  0.,  2.,  2.],\n",
       "       [ 0.,  0.,  0.,  0.,  0.,  0., 20.,  0.,  0.,  0.],\n",
       "       [ 0.,  0.,  1.,  1.,  0.,  0.,  0., 15.,  0.,  3.],\n",
       "       [ 0.,  0.,  1.,  0.,  0.,  3.,  0.,  0., 15.,  1.],\n",
       "       [ 1.,  0.,  0.,  1.,  1.,  1.,  0.,  4.,  0., 12.]])"
      ]
     },
     "execution_count": 16,
     "metadata": {},
     "output_type": "execute_result"
    }
   ],
   "source": [
    "W_b_conf"
   ]
  },
  {
   "cell_type": "code",
   "execution_count": 17,
   "metadata": {},
   "outputs": [
    {
     "data": {
      "text/plain": [
       "0.8"
      ]
     },
     "execution_count": 17,
     "metadata": {},
     "output_type": "execute_result"
    }
   ],
   "source": [
    "np.sum(W_b_conf.diagonal())/200"
   ]
  },
  {
   "cell_type": "code",
   "execution_count": 18,
   "metadata": {},
   "outputs": [
    {
     "data": {
      "image/png": "[encoded data removed]",
      "text/plain": [
       "<Figure size 720x576 with 1 Axes>"
      ]
     },
     "metadata": {
      "needs_background": "light"
     },
     "output_type": "display_data"
    }
   ],
   "source": [
    "plt.figure(figsize=(10, 8))\n",
    "plt.imshow(W_conf)\n",
    "plt.savefig(\"Confusion_NoBias.jpg\")\n",
    "plt.title('Confusion matrix of estimator without a bias parameter')\n",
    "plt.show()"
   ]
  },
  {
   "cell_type": "code",
   "execution_count": 19,
   "metadata": {},
   "outputs": [
    {
     "data": {
      "image/png": "[encoded data removed]",
      "text/plain": [
       "<Figure size 720x576 with 1 Axes>"
      ]
     },
     "metadata": {
      "needs_background": "light"
     },
     "output_type": "display_data"
    }
   ],
   "source": [
    "plt.figure(figsize=(10, 8))\n",
    "plt.imshow(W_b_conf)\n",
    "plt.savefig(\"Confusion_WithBias.jpg\")\n",
    "plt.title('Confusion matrix of estimator with a bias parameter')\n",
    "plt.show()"
   ]
  }
 ],
 "metadata": {
  "colab": {
   "collapsed_sections": [],
   "name": "Untitled3.ipynb",
   "provenance": []
  },
  "kernelspec": {
   "display_name": "Python 3",
   "language": "python",
   "name": "python3"
  },
  "language_info": {
   "codemirror_mode": {
    "name": "ipython",
    "version": 3
   },
   "file_extension": ".py",
   "mimetype": "text/x-python",
   "name": "python",
   "nbconvert_exporter": "python",
   "pygments_lexer": "ipython3",
   "version": "3.8.5"
  }
 },
 "nbformat": 4,
 "nbformat_minor": 1
}

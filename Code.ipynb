{
 "cells": [
  {
   "cell_type": "markdown",
   "metadata": {},
   "source": [
    "# Assignement 1 ML"
   ]
  },
  {
   "cell_type": "code",
   "execution_count": 12,
   "metadata": {},
   "outputs": [],
   "source": [
    "import numpy as np\n",
    "import matplotlib.pyplot as plt\n",
    "plt.rcParams['figure.figsize'] = (15, 10)"
   ]
  },
  {
   "cell_type": "code",
   "execution_count": 17,
   "metadata": {},
   "outputs": [],
   "source": [
    "training_set = np.genfromtxt('Train/Training Labels.txt')\n",
    "test_set = np.genfromtxt('Test/Test Labels.txt')"
   ]
  },
  {
   "cell_type": "code",
   "execution_count": 6,
   "metadata": {},
   "outputs": [],
   "source": [
    "def calculateInputMatrix():\n",
    "    X = np.zeros((2400, 784))\n",
    "    for i in range (0, X.shape[0]):\n",
    "        img = plt.imread(\"Train/\"+str(i+1)+'.jpg')\n",
    "        rows, cols = img.shape \n",
    "        img_size = rows*cols\n",
    "        img_1D_vector = img.reshape(img_size)\n",
    "        X[i] = img_1D_vector\n",
    "    return X\n",
    "\n",
    "X = calculateInputMatrix()\n",
    "#to be checked\n",
    "X = np.concatenate([np.ones((X.shape[0], 1)), X], axis=1)\n",
    "#print(X.shape)"
   ]
  },
  {
   "cell_type": "code",
   "execution_count": 5,
   "metadata": {},
   "outputs": [],
   "source": [
    "def train(classLabel):\n",
    "    class_label_range = classLabel*240\n",
    "    t = np.genfromtxt('Train/Training Labels.txt')\n",
    "    for j in range(0, t.shape[0]):\n",
    "        if (t[j] == classLabel):\n",
    "            t[j] = 1\n",
    "        else:\n",
    "            t[j] = 0\n",
    "    X_trans = np.transpose(X)\n",
    "    X_X_transpose_inv = np.linalg.pinv(np.dot(X_trans, X))\n",
    "#     print(X_X_transpose_inv.shape)\n",
    "#     print(X.shape)\n",
    "#     print(X_trans.shape)\n",
    "    eqt = np.dot(np.dot((X_X_transpose_inv), X_trans), t)\n",
    "    return eqt"
   ]
  },
  {
   "cell_type": "code",
   "execution_count": 7,
   "metadata": {},
   "outputs": [],
   "source": [
    "W = np.zeros((10, 785))\n",
    "for i in range (0, 10):\n",
    "    W[i] = train(i)"
   ]
  },
  {
   "cell_type": "code",
   "execution_count": 8,
   "metadata": {},
   "outputs": [],
   "source": [
    "def classify(image):\n",
    "    img = plt.imread(image)\n",
    "    rows, cols = img.shape \n",
    "    img_size = rows*cols\n",
    "    img_1D_vector = img.reshape(img_size)[:, None]\n",
    "    #to be checked\n",
    "    img_1D_vector = np.concatenate([np.ones((1,1)), img_1D_vector], axis=0)\n",
    "    max = 0\n",
    "    classed = 0\n",
    "    for i in range (0, 10):\n",
    "        curr_max = np.dot(np.transpose(W[i]), img_1D_vector)\n",
    "        if (max < curr_max):\n",
    "            max = curr_max\n",
    "            classed = i\n",
    "        #print(curr_max)\n",
    "    return classed\n",
    "#print(predicts[0].shape)\n",
    "#print(classify(\"Test/200.jpg\"))"
   ]
  },
  {
   "cell_type": "markdown",
   "metadata": {},
   "source": [
    "# getting the confusion matrix of the prediction"
   ]
  },
  {
   "cell_type": "code",
   "execution_count": 36,
   "metadata": {},
   "outputs": [
    {
     "data": {
      "text/plain": [
       "array([[19.,  0.,  0.,  0.,  0.,  0.,  1.,  0.,  0.,  0.],\n",
       "       [ 0., 20.,  0.,  0.,  0.,  0.,  0.,  0.,  0.,  0.],\n",
       "       [ 1.,  3., 11.,  2.,  2.,  1.,  0.,  0.,  0.,  0.],\n",
       "       [ 0.,  0.,  0., 17.,  0.,  1.,  0.,  0.,  2.,  0.],\n",
       "       [ 0.,  0.,  0.,  0., 17.,  1.,  0.,  1.,  0.,  1.],\n",
       "       [ 0.,  0.,  0.,  1.,  0., 14.,  1.,  0.,  2.,  2.],\n",
       "       [ 0.,  0.,  0.,  0.,  0.,  0., 20.,  0.,  0.,  0.],\n",
       "       [ 0.,  0.,  1.,  1.,  0.,  0.,  0., 15.,  0.,  3.],\n",
       "       [ 0.,  0.,  1.,  0.,  0.,  3.,  0.,  0., 15.,  1.],\n",
       "       [ 1.,  0.,  0.,  1.,  1.,  1.,  0.,  4.,  0., 12.]])"
      ]
     },
     "execution_count": 36,
     "metadata": {},
     "output_type": "execute_result"
    }
   ],
   "source": [
    "confusion_matrix = np.zeros((10, 10))\n",
    "predictions = np.zeros((200, 1))\n",
    "for i in range (0, 200):\n",
    "    predictions[i] = classify('Test/'+str(i+1)+'.jpg')\n",
    "np.asarray((unique_elements, counts_elements))\n",
    "for i in range (0, 10):\n",
    "    ran = i*20\n",
    "    unique_elements, counts_elements = np.unique(predictions[ran:ran+20], return_counts=True)\n",
    "    for j in range(0, counts_elements.shape[0]):\n",
    "        val = unique_elements[j]\n",
    "        count = counts_elements[j]\n",
    "        confusion_matrix[i][int(val)] = int(count)\n",
    "confusion_matrix"
   ]
  },
  {
   "cell_type": "code",
   "execution_count": 37,
   "metadata": {},
   "outputs": [
    {
     "data": {
      "image/png": "[encoded data removed]",
      "text/plain": [
       "<Figure size 1080x720 with 1 Axes>"
      ]
     },
     "metadata": {
      "needs_background": "light"
     },
     "output_type": "display_data"
    }
   ],
   "source": [
    "ax = plt.imshow(confusion_matrix)\n",
    "plt.savefig('Confusion'+'.jpg')"
   ]
  },
  {
   "cell_type": "code",
   "execution_count": 9,
   "metadata": {},
   "outputs": [
    {
     "name": "stdout",
     "output_type": "stream",
     "text": [
      "1000000.0\n"
     ]
    }
   ],
   "source": [
    "performance = np.sum(predictions - test_set)**2\n",
    "print(performance)"
   ]
  },
  {
   "cell_type": "code",
   "execution_count": 28,
   "metadata": {},
   "outputs": [
    {
     "name": "stdout",
     "output_type": "stream",
     "text": [
      "accuracy is:80.0%\n"
     ]
    }
   ],
   "source": [
    "accuracy = 0\n",
    "for i in range(0, 200):\n",
    "    if(predictions[i] == test_set[i]):\n",
    "        accuracy +=1\n",
    "print('accuracy is:' + str((accuracy/200)*100) + '%')"
   ]
  }
 ],
 "metadata": {
  "kernelspec": {
   "display_name": "Python 3",
   "language": "python",
   "name": "python3"
  },
  "language_info": {
   "codemirror_mode": {
    "name": "ipython",
    "version": 3
   },
   "file_extension": ".py",
   "mimetype": "text/x-python",
   "name": "python",
   "nbconvert_exporter": "python",
   "pygments_lexer": "ipython3",
   "version": "3.7.3"
  }
 },
 "nbformat": 4,
 "nbformat_minor": 2
}
